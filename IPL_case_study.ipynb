{
  "nbformat": 4,
  "nbformat_minor": 0,
  "metadata": {
    "colab": {
      "provenance": []
    },
    "kernelspec": {
      "name": "python3",
      "display_name": "Python 3"
    },
    "language_info": {
      "name": "python"
    }
  },
  "cells": [
    {
      "cell_type": "code",
      "execution_count": null,
      "metadata": {
        "id": "QhuT87JOExOe"
      },
      "outputs": [],
      "source": [
        "import numpy as np\n",
        "import pandas as pd\n",
        "import matplotlib.pyplot as plt\n",
        "import seaborn as sns\n",
        "\n",
        "\n",
        "\n"
      ]
    },
    {
      "cell_type": "code",
      "source": [],
      "metadata": {
        "id": "_iRwjEFQ8_yM"
      },
      "execution_count": null,
      "outputs": []
    },
    {
      "cell_type": "code",
      "source": [
        "bbb_df=pd.read_csv('/content/IPL_Ball_by_Ball_2008_2022.csv')\n",
        "bbb_df['overs'].unique()\n",
        "#bbb_df.shape"
      ],
      "metadata": {
        "id": "VvsLP_OTFJhy"
      },
      "execution_count": null,
      "outputs": []
    },
    {
      "cell_type": "code",
      "source": [
        "bbb_df.isna().sum()"
      ],
      "metadata": {
        "id": "qFQdPS5rHM7s"
      },
      "execution_count": null,
      "outputs": []
    },
    {
      "cell_type": "code",
      "source": [
        "m_df=pd.read_csv('/content/IPL_Matches_2008_2022.csv')\n",
        "m_df.head()"
      ],
      "metadata": {
        "id": "rebcirxMGtVY"
      },
      "execution_count": null,
      "outputs": []
    },
    {
      "cell_type": "code",
      "source": [
        "m_df.isna().sum()"
      ],
      "metadata": {
        "id": "cM21zJzBIFJb"
      },
      "execution_count": null,
      "outputs": []
    },
    {
      "cell_type": "code",
      "source": [
        "\n",
        "\"\"\"for i in m_df['Venue']:\n",
        "  if i=='Dubai International Cricket Stadium':\n",
        "    m_df['city']='dubai'\n",
        "  elif i=='Sharjah Cricket Stadium':\n",
        "    m_df['city']='sharjah'\n",
        "\"\"\"\n",
        "\n",
        "m_df[m_df['City'].isna()]"
      ],
      "metadata": {
        "id": "dRcwjjCPITFe"
      },
      "execution_count": null,
      "outputs": []
    },
    {
      "cell_type": "code",
      "source": [
        "m_df.isna().sum()"
      ],
      "metadata": {
        "id": "LPZSaMwl9BLh"
      },
      "execution_count": null,
      "outputs": []
    },
    {
      "cell_type": "code",
      "source": [
        "# we have missing margins when their were super over and no results\n",
        "for i in range(0,len(m_df)):\n",
        "  if pd.isna(m_df.loc[i]['City']):\n",
        "    fillna_text=m_df.loc[i]['Venue'].split(' ')[0]\n",
        "    m_df.iat[i,1]=fillna_text\n",
        "\n",
        "m_df['City'].isna().sum()"
      ],
      "metadata": {
        "colab": {
          "base_uri": "https://localhost:8080/"
        },
        "id": "KF1w37P89J7d",
        "outputId": "bdda2a3c-6d35-4e59-f5a8-7a5da1b6ef80"
      },
      "execution_count": null,
      "outputs": [
        {
          "output_type": "execute_result",
          "data": {
            "text/plain": [
              "0"
            ]
          },
          "metadata": {},
          "execution_count": 8
        }
      ]
    },
    {
      "cell_type": "code",
      "source": [
        "m_df.duplicated().sum()"
      ],
      "metadata": {
        "id": "TVjn-S9We9eo",
        "colab": {
          "base_uri": "https://localhost:8080/"
        },
        "outputId": "22716e65-5125-46f3-dc28-3a675ba8b597"
      },
      "execution_count": null,
      "outputs": [
        {
          "output_type": "execute_result",
          "data": {
            "text/plain": [
              "0"
            ]
          },
          "metadata": {},
          "execution_count": 9
        }
      ]
    },
    {
      "cell_type": "code",
      "source": [
        "bbb_df.duplicated().sum()"
      ],
      "metadata": {
        "colab": {
          "base_uri": "https://localhost:8080/"
        },
        "id": "lHmezIOa0U-T",
        "outputId": "477c236d-eae8-41bf-e1c1-db7797a85d4c"
      },
      "execution_count": null,
      "outputs": [
        {
          "output_type": "execute_result",
          "data": {
            "text/plain": [
              "0"
            ]
          },
          "metadata": {},
          "execution_count": 10
        }
      ]
    },
    {
      "cell_type": "code",
      "source": [
        "bbb_df"
      ],
      "metadata": {
        "id": "l76h8Eqh4Xr-"
      },
      "execution_count": null,
      "outputs": []
    },
    {
      "cell_type": "code",
      "source": [
        "bbb_df.info()"
      ],
      "metadata": {
        "id": "CYSrxxul4SQu"
      },
      "execution_count": null,
      "outputs": []
    },
    {
      "cell_type": "markdown",
      "source": [
        "##1. From overs 0-19, which over has the most runs scored in, on average?"
      ],
      "metadata": {
        "id": "o0z3dM0m0pCb"
      }
    },
    {
      "cell_type": "code",
      "source": [
        "bbb_df[(bbb_df['overs']>=0) & (bbb_df['overs']<=19)].head(120)"
      ],
      "metadata": {
        "id": "GrMcJhvg0bB1"
      },
      "execution_count": null,
      "outputs": []
    },
    {
      "cell_type": "code",
      "source": [
        "df_average_run=bbb_df.groupby(['overs']).mean()['total_run']"
      ],
      "metadata": {
        "id": "DwviaxoU3o8K"
      },
      "execution_count": null,
      "outputs": []
    },
    {
      "cell_type": "code",
      "source": [
        "df_overs=bbb_df.groupby(['overs','ballnumber']).agg({'total_run':'mean'}).reset_index()       #  .sort_values(['total_run'],ascending=False)\n",
        "df_overs"
      ],
      "metadata": {
        "id": "AHxdv5fz5BXX"
      },
      "execution_count": null,
      "outputs": []
    },
    {
      "cell_type": "code",
      "source": [
        "df_overs=df_overs.groupby(['overs']).agg({'total_run':'sum'}).reset_index()\n",
        "df_overs"
      ],
      "metadata": {
        "id": "2vTXKPNTQasm"
      },
      "execution_count": null,
      "outputs": []
    },
    {
      "cell_type": "code",
      "source": [
        "sns.lineplot(data=df_overs,y=\"total_run\",x='overs')\n",
        "plt.figure(figsize=(15,7))"
      ],
      "metadata": {
        "id": "UM6OUIiJS4bP"
      },
      "execution_count": null,
      "outputs": []
    },
    {
      "cell_type": "markdown",
      "source": [
        "# 2. Top 10 umpires, who were part of the most matches"
      ],
      "metadata": {
        "id": "47NmXiAt9IJg"
      }
    },
    {
      "cell_type": "code",
      "source": [
        "#df_umpires=pd.DataFrame(m_df.groupby(['Umpire1','Umpire2']).value_counts().reset_index())  #.loc[:,'Umpire1','Umpire2','MatchNumber']\n",
        "pd.concat([m_df['Umpire1'],m_df['Umpire2']]).value_counts().sort_values(ascending=False).head(10)"
      ],
      "metadata": {
        "id": "WCmxCLw1VS3Y"
      },
      "execution_count": null,
      "outputs": []
    },
    {
      "cell_type": "code",
      "source": [
        "pd.concat([m_df['Umpire1'],m_df['Umpire2']]).value_counts().nlargest(10)#.head(10)"
      ],
      "metadata": {
        "id": "mIb8vnERbOuO"
      },
      "execution_count": null,
      "outputs": []
    },
    {
      "cell_type": "markdown",
      "source": [
        "##3. Which team has the highest probability of winning a match given that they had won the toss?"
      ],
      "metadata": {
        "id": "bBOSi-3TcBcr"
      }
    },
    {
      "cell_type": "code",
      "source": [
        "m_df.info()"
      ],
      "metadata": {
        "id": "583775qibr51"
      },
      "execution_count": null,
      "outputs": []
    },
    {
      "cell_type": "code",
      "source": [
        "team_toss_win=m_df[m_df['WinningTeam']==m_df['TossWinner']]\n",
        "team_toss_win=team_toss_win['TossWinner'].value_counts()\n",
        "team_toss_win"
      ],
      "metadata": {
        "id": "lopvboOWl5pf"
      },
      "execution_count": null,
      "outputs": []
    },
    {
      "cell_type": "code",
      "source": [
        "#x=m_df['WinningTeam'].value_counts()\n",
        "#x"
      ],
      "metadata": {
        "id": "fk5bFv52fXMM"
      },
      "execution_count": null,
      "outputs": []
    },
    {
      "cell_type": "code",
      "source": [
        "y=m_df['TossWinner'].value_counts()\n",
        "y"
      ],
      "metadata": {
        "id": "mQCmdjCjftMG"
      },
      "execution_count": null,
      "outputs": []
    },
    {
      "cell_type": "code",
      "source": [
        "probability=team_toss_win/y\n",
        "probability"
      ],
      "metadata": {
        "id": "6H8yWWuLo7vb"
      },
      "execution_count": null,
      "outputs": []
    },
    {
      "cell_type": "markdown",
      "source": [
        "##Ans3.Chennai Super Kings has the highest probability of winning a match given that they had won the toss"
      ],
      "metadata": {
        "id": "uRXufn1pqdIJ"
      }
    },
    {
      "cell_type": "code",
      "source": [
        "#pd.DataFrame((x-y),columns=['team name','total number of '])\n",
        "bbb_df.info()"
      ],
      "metadata": {
        "id": "cDt9Hi95gJ4W"
      },
      "execution_count": null,
      "outputs": []
    },
    {
      "cell_type": "markdown",
      "source": [
        "##4. Top 10 most successful bowlers in terms of number of wickets taken"
      ],
      "metadata": {
        "id": "bZAIRYDJsYyV"
      }
    },
    {
      "cell_type": "code",
      "source": [
        "top_baller=bbb_df.groupby(['bowler']).agg({'isWicketDelivery':'sum'})\n",
        "top_baller.sort_values('isWicketDelivery',ascending=False).head(10)    #.nlargest(10)"
      ],
      "metadata": {
        "id": "O6LWAwmssaM_"
      },
      "execution_count": null,
      "outputs": []
    },
    {
      "cell_type": "code",
      "source": [],
      "metadata": {
        "id": "crGhIHU1gVOg"
      },
      "execution_count": null,
      "outputs": []
    },
    {
      "cell_type": "code",
      "source": [
        "\"\"\"total_matches=pd.DataFrame(pd.concat([m_df['Team1'],m_df['Team2']]).value_counts())\n",
        "total_matches.columns=['total matches']\n",
        "\n",
        "total_matches\"\"\""
      ],
      "metadata": {
        "id": "jL2xvARYgrct"
      },
      "execution_count": null,
      "outputs": []
    },
    {
      "cell_type": "markdown",
      "source": [
        "##5. Calculate for each team the number of playoff matches played."
      ],
      "metadata": {
        "id": "gwyBQ2hXlouK"
      }
    },
    {
      "cell_type": "code",
      "source": [
        "m_df.shape #SuperOver Team1 Team2"
      ],
      "metadata": {
        "id": "5C6CKsEalrgQ"
      },
      "execution_count": null,
      "outputs": []
    },
    {
      "cell_type": "code",
      "source": [
        "x=m_df.groupby(['Team1'])['SuperOver'].value_counts()\n",
        "x=pd.DataFrame(x).rename(columns={'SuperOver': \"sum of matches\"}).reset_index()\n",
        "x=x[x['SuperOver']=='Y']\n",
        "x"
      ],
      "metadata": {
        "id": "nfkWD9KMh2Ds"
      },
      "execution_count": null,
      "outputs": []
    },
    {
      "cell_type": "code",
      "source": [
        "y=m_df.groupby(['Team2'])['SuperOver'].value_counts()\n",
        "\n",
        "y=pd.DataFrame(y).rename(columns={'SuperOver': \"sum of matches\"}).reset_index()\n",
        "y=y[y['SuperOver']=='Y']\n",
        "y"
      ],
      "metadata": {
        "id": "1HfEEck6o2mp"
      },
      "execution_count": null,
      "outputs": []
    },
    {
      "cell_type": "code",
      "source": [
        "pd.merge(left=x,right=y,left_on='Team1',right_on='Team2',how='inner')"
      ],
      "metadata": {
        "id": "r6oeI74VpGyg"
      },
      "execution_count": null,
      "outputs": []
    },
    {
      "cell_type": "markdown",
      "source": [
        "##6. On which venue, the team batting second has the most advantage?"
      ],
      "metadata": {
        "id": "cLK4AQL4w63B"
      }
    },
    {
      "cell_type": "code",
      "source": [
        "\"\"\"m_df.head()\n",
        "new_df=m_df.groupby(['Team2','Venue']).sum().reset_index()#.agg({'Margin':'mean'})\n",
        "new_df.groupby(['Team2','Venue']).agg({'Margin':'mean'}).sort_values(by='Margin',ascending=False)\"\"\""
      ],
      "metadata": {
        "id": "_blPQdw3tG_4"
      },
      "execution_count": null,
      "outputs": []
    },
    {
      "cell_type": "code",
      "source": [
        "m_df.head()"
      ],
      "metadata": {
        "id": "Zk3g8yVfcnri"
      },
      "execution_count": null,
      "outputs": []
    },
    {
      "cell_type": "code",
      "source": [
        "m_df_win_by_runs=m_df[m_df['WonBy']=='Runs']\n",
        "m_df_win_by_runs.groupby(['Venue'])['Margin'].mean()#.head()"
      ],
      "metadata": {
        "id": "BOq0g7XGaIAq"
      },
      "execution_count": null,
      "outputs": []
    },
    {
      "cell_type": "markdown",
      "source": [],
      "metadata": {
        "id": "k9MFkGxCfVqL"
      }
    },
    {
      "cell_type": "code",
      "source": [
        "m_df_win_by_wickets=m_df[m_df['WonBy']=='Wickets']\n",
        "m_df_win_by_wickets.groupby(['Venue'])['Margin'].mean().head()"
      ],
      "metadata": {
        "id": "ZwO2HkH9emPt"
      },
      "execution_count": null,
      "outputs": []
    },
    {
      "cell_type": "markdown",
      "source": [
        "# ans).Arun Jaitley Stadium"
      ],
      "metadata": {
        "id": "jUdbLuy_fWlh"
      }
    },
    {
      "cell_type": "code",
      "source": [],
      "metadata": {
        "id": "vvm9uGRLfcI7"
      },
      "execution_count": null,
      "outputs": []
    },
    {
      "cell_type": "markdown",
      "source": [
        "##7. Which batsman in the history of IPL has been caught out the most?"
      ],
      "metadata": {
        "id": "JTMdRdMZfjJU"
      }
    },
    {
      "cell_type": "code",
      "source": [
        "bbb_df_caught_out=bbb_df[bbb_df['kind']=='caught']\n",
        "bbb_df_caught_out['fielders_involved'].value_counts()"
      ],
      "metadata": {
        "id": "U1pxfttFfkdi"
      },
      "execution_count": null,
      "outputs": []
    },
    {
      "cell_type": "markdown",
      "source": [
        "  ## MS Dhoni"
      ],
      "metadata": {
        "id": "6XuoeTSziF77"
      }
    },
    {
      "cell_type": "code",
      "source": [
        "bbb_df_caught_out\n",
        "bbb_df_caught_out['bowler'].value_counts()"
      ],
      "metadata": {
        "id": "GxDEO8f6iJX7"
      },
      "execution_count": null,
      "outputs": []
    },
    {
      "cell_type": "markdown",
      "source": [
        "##8. Which bowler has taken the wicket of the batsman in que no. 7?\n",
        "\n",
        "##DJ Bravo"
      ],
      "metadata": {
        "id": "y-_hpe3WivOd"
      }
    },
    {
      "cell_type": "code",
      "source": [],
      "metadata": {
        "id": "xb5CEYF0ixaZ"
      },
      "execution_count": null,
      "outputs": []
    }
  ]
}